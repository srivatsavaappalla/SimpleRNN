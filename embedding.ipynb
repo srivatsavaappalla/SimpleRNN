{
 "cells": [
  {
   "cell_type": "code",
   "execution_count": 1,
   "metadata": {},
   "outputs": [],
   "source": [
    "from tensorflow.keras.preprocessing.text import one_hot"
   ]
  },
  {
   "cell_type": "code",
   "execution_count": 2,
   "metadata": {},
   "outputs": [],
   "source": [
    "sent=['the glass of juice', 'the cup of tea','I am a good boy', 'I am a good developer']"
   ]
  },
  {
   "cell_type": "code",
   "execution_count": 3,
   "metadata": {},
   "outputs": [],
   "source": [
    "voc_size=10000"
   ]
  },
  {
   "cell_type": "code",
   "execution_count": 6,
   "metadata": {},
   "outputs": [
    {
     "data": {
      "text/plain": [
       "[[4981, 9139, 7082, 1681],\n",
       " [4981, 467, 7082, 295],\n",
       " [7366, 9527, 9256, 3017, 4612],\n",
       " [7366, 9527, 9256, 3017, 2493]]"
      ]
     },
     "execution_count": 6,
     "metadata": {},
     "output_type": "execute_result"
    }
   ],
   "source": [
    "one_hot_repr=[one_hot(words, voc_size) for words in sent]\n",
    "one_hot_repr"
   ]
  },
  {
   "cell_type": "code",
   "execution_count": 7,
   "metadata": {},
   "outputs": [],
   "source": [
    "from tensorflow.keras.layers import Embedding\n",
    "from tensorflow.keras.preprocessing.sequence import pad_sequences\n",
    "from tensorflow.keras.models import Sequential"
   ]
  },
  {
   "cell_type": "code",
   "execution_count": 8,
   "metadata": {},
   "outputs": [],
   "source": [
    "import numpy as np"
   ]
  },
  {
   "cell_type": "code",
   "execution_count": 10,
   "metadata": {},
   "outputs": [
    {
     "name": "stdout",
     "output_type": "stream",
     "text": [
      "[[   0    0    0    0 4981 9139 7082 1681]\n",
      " [   0    0    0    0 4981  467 7082  295]\n",
      " [   0    0    0 7366 9527 9256 3017 4612]\n",
      " [   0    0    0 7366 9527 9256 3017 2493]]\n"
     ]
    }
   ],
   "source": [
    "sent_length=8\n",
    "embedded_docs=pad_sequences(one_hot_repr,padding='pre',maxlen=sent_length)\n",
    "print(embedded_docs)"
   ]
  },
  {
   "cell_type": "code",
   "execution_count": 13,
   "metadata": {},
   "outputs": [
    {
     "name": "stderr",
     "output_type": "stream",
     "text": [
      "d:\\Gen_AI\\genv\\Lib\\site-packages\\keras\\src\\layers\\core\\embedding.py:90: UserWarning: Argument `input_length` is deprecated. Just remove it.\n",
      "  warnings.warn(\n"
     ]
    }
   ],
   "source": [
    "## feature representation\n",
    "dim=10\n",
    "model=Sequential()\n",
    "model.add(Embedding(voc_size,dim,input_length=sent_length))\n",
    "model.compile('adam','mse')"
   ]
  },
  {
   "cell_type": "code",
   "execution_count": 16,
   "metadata": {},
   "outputs": [
    {
     "data": {
      "text/html": [
       "<pre style=\"white-space:pre;overflow-x:auto;line-height:normal;font-family:Menlo,'DejaVu Sans Mono',consolas,'Courier New',monospace\"><span style=\"font-weight: bold\">Model: \"sequential_2\"</span>\n",
       "</pre>\n"
      ],
      "text/plain": [
       "\u001b[1mModel: \"sequential_2\"\u001b[0m\n"
      ]
     },
     "metadata": {},
     "output_type": "display_data"
    },
    {
     "data": {
      "text/html": [
       "<pre style=\"white-space:pre;overflow-x:auto;line-height:normal;font-family:Menlo,'DejaVu Sans Mono',consolas,'Courier New',monospace\">┏━━━━━━━━━━━━━━━━━━━━━━━━━━━━━━━━━┳━━━━━━━━━━━━━━━━━━━━━━━━┳━━━━━━━━━━━━━━━┓\n",
       "┃<span style=\"font-weight: bold\"> Layer (type)                    </span>┃<span style=\"font-weight: bold\"> Output Shape           </span>┃<span style=\"font-weight: bold\">       Param # </span>┃\n",
       "┡━━━━━━━━━━━━━━━━━━━━━━━━━━━━━━━━━╇━━━━━━━━━━━━━━━━━━━━━━━━╇━━━━━━━━━━━━━━━┩\n",
       "│ embedding_1 (<span style=\"color: #0087ff; text-decoration-color: #0087ff\">Embedding</span>)         │ ?                      │   <span style=\"color: #00af00; text-decoration-color: #00af00\">0</span> (unbuilt) │\n",
       "└─────────────────────────────────┴────────────────────────┴───────────────┘\n",
       "</pre>\n"
      ],
      "text/plain": [
       "┏━━━━━━━━━━━━━━━━━━━━━━━━━━━━━━━━━┳━━━━━━━━━━━━━━━━━━━━━━━━┳━━━━━━━━━━━━━━━┓\n",
       "┃\u001b[1m \u001b[0m\u001b[1mLayer (type)                   \u001b[0m\u001b[1m \u001b[0m┃\u001b[1m \u001b[0m\u001b[1mOutput Shape          \u001b[0m\u001b[1m \u001b[0m┃\u001b[1m \u001b[0m\u001b[1m      Param #\u001b[0m\u001b[1m \u001b[0m┃\n",
       "┡━━━━━━━━━━━━━━━━━━━━━━━━━━━━━━━━━╇━━━━━━━━━━━━━━━━━━━━━━━━╇━━━━━━━━━━━━━━━┩\n",
       "│ embedding_1 (\u001b[38;5;33mEmbedding\u001b[0m)         │ ?                      │   \u001b[38;5;34m0\u001b[0m (unbuilt) │\n",
       "└─────────────────────────────────┴────────────────────────┴───────────────┘\n"
      ]
     },
     "metadata": {},
     "output_type": "display_data"
    },
    {
     "data": {
      "text/html": [
       "<pre style=\"white-space:pre;overflow-x:auto;line-height:normal;font-family:Menlo,'DejaVu Sans Mono',consolas,'Courier New',monospace\"><span style=\"font-weight: bold\"> Total params: </span><span style=\"color: #00af00; text-decoration-color: #00af00\">0</span> (0.00 B)\n",
       "</pre>\n"
      ],
      "text/plain": [
       "\u001b[1m Total params: \u001b[0m\u001b[38;5;34m0\u001b[0m (0.00 B)\n"
      ]
     },
     "metadata": {},
     "output_type": "display_data"
    },
    {
     "data": {
      "text/html": [
       "<pre style=\"white-space:pre;overflow-x:auto;line-height:normal;font-family:Menlo,'DejaVu Sans Mono',consolas,'Courier New',monospace\"><span style=\"font-weight: bold\"> Trainable params: </span><span style=\"color: #00af00; text-decoration-color: #00af00\">0</span> (0.00 B)\n",
       "</pre>\n"
      ],
      "text/plain": [
       "\u001b[1m Trainable params: \u001b[0m\u001b[38;5;34m0\u001b[0m (0.00 B)\n"
      ]
     },
     "metadata": {},
     "output_type": "display_data"
    },
    {
     "data": {
      "text/html": [
       "<pre style=\"white-space:pre;overflow-x:auto;line-height:normal;font-family:Menlo,'DejaVu Sans Mono',consolas,'Courier New',monospace\"><span style=\"font-weight: bold\"> Non-trainable params: </span><span style=\"color: #00af00; text-decoration-color: #00af00\">0</span> (0.00 B)\n",
       "</pre>\n"
      ],
      "text/plain": [
       "\u001b[1m Non-trainable params: \u001b[0m\u001b[38;5;34m0\u001b[0m (0.00 B)\n"
      ]
     },
     "metadata": {},
     "output_type": "display_data"
    }
   ],
   "source": [
    "model.summary()"
   ]
  },
  {
   "cell_type": "code",
   "execution_count": 28,
   "metadata": {},
   "outputs": [
    {
     "name": "stdout",
     "output_type": "stream",
     "text": [
      "\u001b[1m1/1\u001b[0m \u001b[32m━━━━━━━━━━━━━━━━━━━━\u001b[0m\u001b[37m\u001b[0m \u001b[1m0s\u001b[0m 24ms/step\n"
     ]
    },
    {
     "data": {
      "text/plain": [
       "array([[[-1.10604055e-02, -1.48882717e-03, -2.72875559e-02,\n",
       "          3.35702635e-02, -3.41985226e-02,  8.25757906e-03,\n",
       "         -3.75077240e-02,  6.87051937e-03, -2.80870441e-02,\n",
       "         -3.20184231e-03],\n",
       "        [-1.10604055e-02, -1.48882717e-03, -2.72875559e-02,\n",
       "          3.35702635e-02, -3.41985226e-02,  8.25757906e-03,\n",
       "         -3.75077240e-02,  6.87051937e-03, -2.80870441e-02,\n",
       "         -3.20184231e-03],\n",
       "        [-1.10604055e-02, -1.48882717e-03, -2.72875559e-02,\n",
       "          3.35702635e-02, -3.41985226e-02,  8.25757906e-03,\n",
       "         -3.75077240e-02,  6.87051937e-03, -2.80870441e-02,\n",
       "         -3.20184231e-03],\n",
       "        [-1.10604055e-02, -1.48882717e-03, -2.72875559e-02,\n",
       "          3.35702635e-02, -3.41985226e-02,  8.25757906e-03,\n",
       "         -3.75077240e-02,  6.87051937e-03, -2.80870441e-02,\n",
       "         -3.20184231e-03],\n",
       "        [ 4.36301716e-02, -1.03426091e-02,  3.22487466e-02,\n",
       "         -2.50677224e-02, -2.01079603e-02, -1.98696144e-02,\n",
       "          2.57361643e-02, -1.23267286e-02,  3.24135311e-02,\n",
       "         -2.22430713e-02],\n",
       "        [-3.77027988e-02,  3.06158923e-02,  3.10004391e-02,\n",
       "         -1.06139667e-02,  2.29263939e-02, -3.39227095e-02,\n",
       "         -2.74711736e-02,  2.56320089e-03, -4.90123294e-02,\n",
       "         -1.48461945e-02],\n",
       "        [ 1.45853795e-02,  3.00559513e-02,  4.04326431e-02,\n",
       "         -2.50387192e-03, -3.81499156e-02,  1.29073374e-02,\n",
       "         -3.71142514e-02,  4.86564077e-02,  4.83483337e-02,\n",
       "          8.22655112e-03],\n",
       "        [ 3.47460769e-02,  2.73195617e-02,  3.16978954e-02,\n",
       "          1.77447535e-02,  1.70835368e-02, -3.37357894e-02,\n",
       "          4.50486206e-02,  1.51335262e-02,  6.85453415e-06,\n",
       "         -3.68729234e-05]],\n",
       "\n",
       "       [[-1.10604055e-02, -1.48882717e-03, -2.72875559e-02,\n",
       "          3.35702635e-02, -3.41985226e-02,  8.25757906e-03,\n",
       "         -3.75077240e-02,  6.87051937e-03, -2.80870441e-02,\n",
       "         -3.20184231e-03],\n",
       "        [-1.10604055e-02, -1.48882717e-03, -2.72875559e-02,\n",
       "          3.35702635e-02, -3.41985226e-02,  8.25757906e-03,\n",
       "         -3.75077240e-02,  6.87051937e-03, -2.80870441e-02,\n",
       "         -3.20184231e-03],\n",
       "        [-1.10604055e-02, -1.48882717e-03, -2.72875559e-02,\n",
       "          3.35702635e-02, -3.41985226e-02,  8.25757906e-03,\n",
       "         -3.75077240e-02,  6.87051937e-03, -2.80870441e-02,\n",
       "         -3.20184231e-03],\n",
       "        [-1.10604055e-02, -1.48882717e-03, -2.72875559e-02,\n",
       "          3.35702635e-02, -3.41985226e-02,  8.25757906e-03,\n",
       "         -3.75077240e-02,  6.87051937e-03, -2.80870441e-02,\n",
       "         -3.20184231e-03],\n",
       "        [ 4.36301716e-02, -1.03426091e-02,  3.22487466e-02,\n",
       "         -2.50677224e-02, -2.01079603e-02, -1.98696144e-02,\n",
       "          2.57361643e-02, -1.23267286e-02,  3.24135311e-02,\n",
       "         -2.22430713e-02],\n",
       "        [ 3.73786129e-02, -3.35444957e-02,  1.57482289e-02,\n",
       "         -3.82580161e-02,  9.69228894e-03,  4.38223220e-02,\n",
       "          1.38516687e-02, -3.20605785e-02,  4.16440479e-02,\n",
       "          3.07278745e-02],\n",
       "        [ 1.45853795e-02,  3.00559513e-02,  4.04326431e-02,\n",
       "         -2.50387192e-03, -3.81499156e-02,  1.29073374e-02,\n",
       "         -3.71142514e-02,  4.86564077e-02,  4.83483337e-02,\n",
       "          8.22655112e-03],\n",
       "        [-4.24349084e-02,  3.90933640e-02, -4.19916287e-02,\n",
       "          3.79841812e-02, -2.31186748e-02, -1.18749030e-02,\n",
       "         -9.47321579e-03,  1.97799094e-02, -4.80217598e-02,\n",
       "          4.62898873e-02]],\n",
       "\n",
       "       [[-1.10604055e-02, -1.48882717e-03, -2.72875559e-02,\n",
       "          3.35702635e-02, -3.41985226e-02,  8.25757906e-03,\n",
       "         -3.75077240e-02,  6.87051937e-03, -2.80870441e-02,\n",
       "         -3.20184231e-03],\n",
       "        [-1.10604055e-02, -1.48882717e-03, -2.72875559e-02,\n",
       "          3.35702635e-02, -3.41985226e-02,  8.25757906e-03,\n",
       "         -3.75077240e-02,  6.87051937e-03, -2.80870441e-02,\n",
       "         -3.20184231e-03],\n",
       "        [-1.10604055e-02, -1.48882717e-03, -2.72875559e-02,\n",
       "          3.35702635e-02, -3.41985226e-02,  8.25757906e-03,\n",
       "         -3.75077240e-02,  6.87051937e-03, -2.80870441e-02,\n",
       "         -3.20184231e-03],\n",
       "        [-2.44091284e-02, -3.44086885e-02,  3.63660790e-02,\n",
       "          1.41456015e-02, -4.26414385e-02, -3.59590426e-02,\n",
       "         -6.83154911e-03,  3.90498377e-02, -4.85983007e-02,\n",
       "         -2.78982054e-02],\n",
       "        [-1.13670006e-02,  4.30302694e-03, -3.81142013e-02,\n",
       "         -3.03942915e-02, -5.86397573e-03, -5.02783060e-03,\n",
       "          1.13521703e-02, -2.95143481e-02,  7.05353171e-03,\n",
       "         -1.40660182e-02],\n",
       "        [-2.02176105e-02, -2.16501243e-02, -2.57943030e-02,\n",
       "          3.87967564e-02,  1.10156462e-03,  1.64329149e-02,\n",
       "          4.04237993e-02,  3.90022993e-03, -1.30288824e-02,\n",
       "          4.08013724e-02],\n",
       "        [-2.10421924e-02, -3.10889017e-02,  1.99548155e-03,\n",
       "         -1.14405043e-02, -6.30862638e-03,  4.02924530e-02,\n",
       "         -2.91262940e-03, -4.46007140e-02,  9.64196771e-03,\n",
       "         -3.10086254e-02],\n",
       "        [-4.69408035e-02, -2.53699720e-04,  1.00289099e-02,\n",
       "         -4.49270718e-02, -3.09995897e-02, -4.74172235e-02,\n",
       "         -5.24348021e-03,  4.59550284e-02, -3.55353951e-02,\n",
       "          2.78527476e-02]],\n",
       "\n",
       "       [[-1.10604055e-02, -1.48882717e-03, -2.72875559e-02,\n",
       "          3.35702635e-02, -3.41985226e-02,  8.25757906e-03,\n",
       "         -3.75077240e-02,  6.87051937e-03, -2.80870441e-02,\n",
       "         -3.20184231e-03],\n",
       "        [-1.10604055e-02, -1.48882717e-03, -2.72875559e-02,\n",
       "          3.35702635e-02, -3.41985226e-02,  8.25757906e-03,\n",
       "         -3.75077240e-02,  6.87051937e-03, -2.80870441e-02,\n",
       "         -3.20184231e-03],\n",
       "        [-1.10604055e-02, -1.48882717e-03, -2.72875559e-02,\n",
       "          3.35702635e-02, -3.41985226e-02,  8.25757906e-03,\n",
       "         -3.75077240e-02,  6.87051937e-03, -2.80870441e-02,\n",
       "         -3.20184231e-03],\n",
       "        [-2.44091284e-02, -3.44086885e-02,  3.63660790e-02,\n",
       "          1.41456015e-02, -4.26414385e-02, -3.59590426e-02,\n",
       "         -6.83154911e-03,  3.90498377e-02, -4.85983007e-02,\n",
       "         -2.78982054e-02],\n",
       "        [-1.13670006e-02,  4.30302694e-03, -3.81142013e-02,\n",
       "         -3.03942915e-02, -5.86397573e-03, -5.02783060e-03,\n",
       "          1.13521703e-02, -2.95143481e-02,  7.05353171e-03,\n",
       "         -1.40660182e-02],\n",
       "        [-2.02176105e-02, -2.16501243e-02, -2.57943030e-02,\n",
       "          3.87967564e-02,  1.10156462e-03,  1.64329149e-02,\n",
       "          4.04237993e-02,  3.90022993e-03, -1.30288824e-02,\n",
       "          4.08013724e-02],\n",
       "        [-2.10421924e-02, -3.10889017e-02,  1.99548155e-03,\n",
       "         -1.14405043e-02, -6.30862638e-03,  4.02924530e-02,\n",
       "         -2.91262940e-03, -4.46007140e-02,  9.64196771e-03,\n",
       "         -3.10086254e-02],\n",
       "        [ 1.65509693e-02,  4.50646617e-02, -2.09528692e-02,\n",
       "         -5.98673895e-03,  1.63257606e-02,  3.52243297e-02,\n",
       "          2.96673290e-02, -1.61175728e-02,  4.53553535e-02,\n",
       "          4.43515070e-02]]], dtype=float32)"
      ]
     },
     "execution_count": 28,
     "metadata": {},
     "output_type": "execute_result"
    }
   ],
   "source": [
    "model.predict(embedded_docs)"
   ]
  },
  {
   "cell_type": "code",
   "execution_count": 24,
   "metadata": {},
   "outputs": [
    {
     "data": {
      "text/plain": [
       "array([   0,    0,    0,    0, 4981, 9139, 7082, 1681])"
      ]
     },
     "execution_count": 24,
     "metadata": {},
     "output_type": "execute_result"
    }
   ],
   "source": [
    "embedded_docs[0]"
   ]
  },
  {
   "cell_type": "code",
   "execution_count": null,
   "metadata": {},
   "outputs": [],
   "source": []
  },
  {
   "cell_type": "code",
   "execution_count": null,
   "metadata": {},
   "outputs": [],
   "source": []
  }
 ],
 "metadata": {
  "kernelspec": {
   "display_name": "Python 3",
   "language": "python",
   "name": "python3"
  },
  "language_info": {
   "codemirror_mode": {
    "name": "ipython",
    "version": 3
   },
   "file_extension": ".py",
   "mimetype": "text/x-python",
   "name": "python",
   "nbconvert_exporter": "python",
   "pygments_lexer": "ipython3",
   "version": "3.12.0"
  }
 },
 "nbformat": 4,
 "nbformat_minor": 2
}
